{
 "cells": [
  {
   "cell_type": "markdown",
   "metadata": {},
   "source": [
    "### The Boston Housing Dataset\n",
    "https://archive.ics.uci.edu/ml/datasets/Housing"
   ]
  },
  {
   "cell_type": "code",
   "execution_count": 1,
   "metadata": {
    "ExecuteTime": {
     "end_time": "2017-11-14T07:19:52.751578Z",
     "start_time": "2017-11-14T07:19:51.910609Z"
    }
   },
   "outputs": [],
   "source": [
    "from sklearn.datasets import load_boston\n",
    "import matplotlib.pyplot as plt\n",
    "import numpy as np"
   ]
  },
  {
   "cell_type": "code",
   "execution_count": 2,
   "metadata": {
    "ExecuteTime": {
     "end_time": "2017-11-14T07:20:24.170035Z",
     "start_time": "2017-11-14T07:20:24.160293Z"
    }
   },
   "outputs": [
    {
     "data": {
      "text/plain": [
       "array([[6.3200e-03, 1.8000e+01, 2.3100e+00, ..., 1.5300e+01, 3.9690e+02,\n",
       "        4.9800e+00],\n",
       "       [2.7310e-02, 0.0000e+00, 7.0700e+00, ..., 1.7800e+01, 3.9690e+02,\n",
       "        9.1400e+00],\n",
       "       [2.7290e-02, 0.0000e+00, 7.0700e+00, ..., 1.7800e+01, 3.9283e+02,\n",
       "        4.0300e+00],\n",
       "       ...,\n",
       "       [6.0760e-02, 0.0000e+00, 1.1930e+01, ..., 2.1000e+01, 3.9690e+02,\n",
       "        5.6400e+00],\n",
       "       [1.0959e-01, 0.0000e+00, 1.1930e+01, ..., 2.1000e+01, 3.9345e+02,\n",
       "        6.4800e+00],\n",
       "       [4.7410e-02, 0.0000e+00, 1.1930e+01, ..., 2.1000e+01, 3.9690e+02,\n",
       "        7.8800e+00]])"
      ]
     },
     "execution_count": 2,
     "metadata": {},
     "output_type": "execute_result"
    }
   ],
   "source": [
    "boston = load_boston()\n",
    "boston[\"data\"]"
   ]
  },
  {
   "cell_type": "code",
   "execution_count": 3,
   "metadata": {
    "ExecuteTime": {
     "end_time": "2017-11-14T07:19:53.823228Z",
     "start_time": "2017-11-14T07:19:53.809491Z"
    }
   },
   "outputs": [],
   "source": [
    "x_data = boston.data\n",
    "y_data = boston.target.reshape(boston.target.size,1)"
   ]
  },
  {
   "cell_type": "code",
   "execution_count": 4,
   "metadata": {},
   "outputs": [
    {
     "data": {
      "text/plain": [
       "(506, 1)"
      ]
     },
     "execution_count": 4,
     "metadata": {},
     "output_type": "execute_result"
    }
   ],
   "source": [
    "y_data.shape"
   ]
  },
  {
   "cell_type": "code",
   "execution_count": 5,
   "metadata": {
    "ExecuteTime": {
     "end_time": "2017-11-14T07:23:41.443374Z",
     "start_time": "2017-11-14T07:23:41.433756Z"
    }
   },
   "outputs": [
    {
     "data": {
      "text/plain": [
       "array([[0.00000000e+00, 9.00000000e-01, 3.39076246e-01, 0.00000000e+00,\n",
       "        1.57407407e+00, 2.88752635e+00, 3.20803296e+00, 1.34601570e+00,\n",
       "        0.00000000e+00, 1.04007634e+00, 1.43617021e+00, 5.00000000e+00,\n",
       "        4.48399558e-01],\n",
       "       [1.17961270e-03, 0.00000000e+00, 1.21151026e+00, 0.00000000e+00,\n",
       "        8.64197531e-01, 2.73998850e+00, 3.91349125e+00, 1.74480990e+00,\n",
       "        2.17391304e-01, 5.24809160e-01, 2.76595745e+00, 5.00000000e+00,\n",
       "        1.02235099e+00],\n",
       "       [1.17848872e-03, 0.00000000e+00, 1.21151026e+00, 0.00000000e+00,\n",
       "        8.64197531e-01, 3.47192949e+00, 2.99691040e+00, 1.74480990e+00,\n",
       "        2.17391304e-01, 5.24809160e-01, 2.76595745e+00, 4.94868627e+00,\n",
       "        3.17328918e-01]])"
      ]
     },
     "execution_count": 5,
     "metadata": {},
     "output_type": "execute_result"
    }
   ],
   "source": [
    "from sklearn import preprocessing\n",
    "\n",
    "minmax_scale = preprocessing.MinMaxScaler(feature_range=(0,5)).fit(x_data)\n",
    "# standard_scale = preprocessing.StandardScaler().fit(x_data)\n",
    "x_scaled_data = minmax_scale.transform(x_data)\n",
    "\n",
    "x_scaled_data[:3]"
   ]
  },
  {
   "cell_type": "code",
   "execution_count": 6,
   "metadata": {},
   "outputs": [],
   "source": [
    "from sklearn.model_selection import train_test_split\n",
    "\n",
    "X_train, X_test, y_train, y_test = train_test_split(x_scaled_data, y_data, test_size=0.33)"
   ]
  },
  {
   "cell_type": "code",
   "execution_count": 7,
   "metadata": {},
   "outputs": [
    {
     "data": {
      "text/plain": [
       "((339, 13), (167, 13), (339, 1), (167, 1))"
      ]
     },
     "execution_count": 7,
     "metadata": {},
     "output_type": "execute_result"
    }
   ],
   "source": [
    "X_train.shape, X_test.shape, y_train.shape, y_test.shape"
   ]
  },
  {
   "cell_type": "code",
   "execution_count": 8,
   "metadata": {
    "ExecuteTime": {
     "end_time": "2017-11-14T07:26:06.844439Z",
     "start_time": "2017-11-14T07:26:06.836488Z"
    }
   },
   "outputs": [
    {
     "data": {
      "text/plain": [
       "LinearRegression(n_jobs=8)"
      ]
     },
     "execution_count": 8,
     "metadata": {},
     "output_type": "execute_result"
    }
   ],
   "source": [
    "from sklearn import  linear_model\n",
    "\n",
    "regr = linear_model.LinearRegression(fit_intercept=True, \n",
    "                                     normalize=False, \n",
    "                                     copy_X=True, \n",
    "                                     n_jobs=8)\n",
    "regr.fit(X_train, y_train)\n",
    "regr"
   ]
  },
  {
   "cell_type": "code",
   "execution_count": 9,
   "metadata": {
    "ExecuteTime": {
     "end_time": "2017-11-14T07:27:16.743389Z",
     "start_time": "2017-11-14T07:27:16.738501Z"
    }
   },
   "outputs": [
    {
     "data": {
      "text/plain": [
       "(array([[-1.98510882,  0.60024325,  0.17017616,  0.66244214, -1.92743465,\n",
       "          5.05647714,  0.30202487, -2.88013514,  1.31207339, -1.07126105,\n",
       "         -1.70419189,  0.52202861, -3.97656002]]),\n",
       " array([23.35390171]))"
      ]
     },
     "execution_count": 9,
     "metadata": {},
     "output_type": "execute_result"
    }
   ],
   "source": [
    "regr.coef_ , regr.intercept_"
   ]
  },
  {
   "cell_type": "code",
   "execution_count": 10,
   "metadata": {
    "ExecuteTime": {
     "end_time": "2017-11-14T07:23:47.132065Z",
     "start_time": "2017-11-14T07:23:47.121596Z"
    }
   },
   "outputs": [
    {
     "name": "stdout",
     "output_type": "stream",
     "text": [
      "Coefficients:  [[-1.98510882  0.60024325  0.17017616  0.66244214 -1.92743465  5.05647714\n",
      "   0.30202487 -2.88013514  1.31207339 -1.07126105 -1.70419189  0.52202861\n",
      "  -3.97656002]]\n",
      "intercept:  [23.35390171]\n"
     ]
    }
   ],
   "source": [
    "# # The coefficients\n",
    "print('Coefficients: ', regr.coef_)\n",
    "print('intercept: ', regr.intercept_)   "
   ]
  },
  {
   "cell_type": "code",
   "execution_count": 11,
   "metadata": {},
   "outputs": [
    {
     "data": {
      "text/plain": [
       "array([[-79.80495993],\n",
       "       [-50.51789686],\n",
       "       [-33.83518614],\n",
       "       [-16.89918429],\n",
       "       [-22.00054754]])"
      ]
     },
     "execution_count": 11,
     "metadata": {},
     "output_type": "execute_result"
    }
   ],
   "source": [
    "regr.predict(x_data[:5])"
   ]
  },
  {
   "cell_type": "code",
   "execution_count": 12,
   "metadata": {},
   "outputs": [
    {
     "data": {
      "text/plain": [
       "array([[-79.80495993],\n",
       "       [-50.51789686],\n",
       "       [-33.83518614],\n",
       "       [-16.89918429],\n",
       "       [-22.00054754]])"
      ]
     },
     "execution_count": 12,
     "metadata": {},
     "output_type": "execute_result"
    }
   ],
   "source": [
    "x_data[:5].dot(regr.coef_.T) + regr.intercept_"
   ]
  },
  {
   "cell_type": "code",
   "execution_count": 13,
   "metadata": {},
   "outputs": [],
   "source": [
    "from sklearn.metrics import r2_score\n",
    "from sklearn.metrics import mean_absolute_error\n",
    "from sklearn.metrics import mean_squared_error\n"
   ]
  },
  {
   "cell_type": "code",
   "execution_count": 14,
   "metadata": {},
   "outputs": [
    {
     "data": {
      "text/plain": [
       "(0.6959886257221897, 3.56606762811136, 26.52013012048324)"
      ]
     },
     "execution_count": 14,
     "metadata": {},
     "output_type": "execute_result"
    }
   ],
   "source": [
    "y_true = y_test\n",
    "y_hat = regr.predict(X_test)\n",
    "\n",
    "r2_score(y_true, y_hat), mean_absolute_error(y_true, y_hat), mean_squared_error(y_true, y_hat)"
   ]
  },
  {
   "cell_type": "code",
   "execution_count": 15,
   "metadata": {},
   "outputs": [
    {
     "data": {
      "text/plain": [
       "(0.7511370512195886, 3.228864405224212, 20.663632037206447)"
      ]
     },
     "execution_count": 15,
     "metadata": {},
     "output_type": "execute_result"
    }
   ],
   "source": [
    "y_true = y_train\n",
    "y_hat = regr.predict(X_train)\n",
    "\n",
    "r2_score(y_true, y_hat), mean_absolute_error(y_true, y_hat), mean_squared_error(y_true, y_hat)"
   ]
  }
 ],
 "metadata": {
  "kernelspec": {
   "display_name": "Python 3",
   "language": "python",
   "name": "python3"
  },
  "language_info": {
   "codemirror_mode": {
    "name": "ipython",
    "version": 3
   },
   "file_extension": ".py",
   "mimetype": "text/x-python",
   "name": "python",
   "nbconvert_exporter": "python",
   "pygments_lexer": "ipython3",
   "version": "3.8.8"
  },
  "nav_menu": {},
  "toc": {
   "navigate_menu": true,
   "number_sections": true,
   "sideBar": true,
   "threshold": 6,
   "toc_cell": false,
   "toc_section_display": "block",
   "toc_window_display": false
  }
 },
 "nbformat": 4,
 "nbformat_minor": 1
}
